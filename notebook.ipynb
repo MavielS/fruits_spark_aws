{
 "cells": [
  {
   "cell_type": "code",
   "execution_count": 1,
   "id": "6730c6c3",
   "metadata": {},
   "outputs": [],
   "source": [
    "import pandas as pd\n",
    "import numpy as np\n",
    "import boto3, os, sys, io\n",
    "\n",
    "# Viz\n",
    "import matplotlib.pyplot as plt \n",
    "import matplotlib.image as mpimg\n",
    "import seaborn as sns\n",
    "\n",
    "from pyspark import SparkContext, SparkConf\n",
    "from pyspark.sql import SparkSession\n",
    "from pyspark.ml.image import ImageSchema\n",
    "from pyspark.sql.functions import col, pandas_udf, PandasUDFType\n",
    "\n",
    "import findspark\n",
    "import configparser\n",
    "\n",
    "# Features extraction\n",
    "from PIL import Image\n",
    "import tensorflow as tf\n",
    "from tensorflow.keras.applications.resnet50 import ResNet50, preprocess_input\n",
    "from tensorflow.keras.preprocessing.image import img_to_array"
   ]
  },
  {
   "cell_type": "code",
   "execution_count": 2,
   "id": "9504f234",
   "metadata": {},
   "outputs": [],
   "source": [
    "BUCKET_NAME = 'fruitbucketoc'\n",
    "PREFIX = 'Imgs'"
   ]
  },
  {
   "cell_type": "code",
   "execution_count": 3,
   "id": "6b07c866",
   "metadata": {
    "scrolled": true
   },
   "outputs": [],
   "source": [
    "model = ResNet50(include_top=False)"
   ]
  },
  {
   "cell_type": "markdown",
   "id": "71e79215",
   "metadata": {},
   "source": [
    "# Check env variables"
   ]
  },
  {
   "cell_type": "code",
   "execution_count": 4,
   "id": "11a08cdc",
   "metadata": {},
   "outputs": [],
   "source": [
    "findspark.init()\n",
    "# Sets environment variables and adds dependencies to sys.path.\n",
    "# If no Spark location is provided, will try to find an installation."
   ]
  },
  {
   "cell_type": "code",
   "execution_count": 5,
   "id": "2e96b712",
   "metadata": {},
   "outputs": [
    {
     "name": "stdout",
     "output_type": "stream",
     "text": [
      "SPARK_HOME:  /home/ubuntu/spark-3.0.3-bin-hadoop2.7\n"
     ]
    }
   ],
   "source": [
    "print('SPARK_HOME: ', os.environ['SPARK_HOME'])"
   ]
  },
  {
   "cell_type": "code",
   "execution_count": 6,
   "id": "a8e56fbb",
   "metadata": {},
   "outputs": [
    {
     "data": {
      "text/plain": [
       "'/home/ubuntu/anaconda3/bin/python'"
      ]
     },
     "execution_count": 6,
     "metadata": {},
     "output_type": "execute_result"
    }
   ],
   "source": [
    "os.environ.get('PYSPARK_PYTHON')"
   ]
  },
  {
   "cell_type": "code",
   "execution_count": 7,
   "id": "980d45f0",
   "metadata": {},
   "outputs": [],
   "source": [
    "os.environ.get('PYSPARK_SUBMIT_ARGS')"
   ]
  },
  {
   "cell_type": "markdown",
   "id": "2aebc2af",
   "metadata": {},
   "source": [
    "# Connection EC2 -> S3"
   ]
  },
  {
   "cell_type": "code",
   "execution_count": 8,
   "id": "09929850",
   "metadata": {
    "collapsed": true,
    "jupyter": {
     "outputs_hidden": true
    },
    "tags": []
   },
   "outputs": [
    {
     "name": "stdout",
     "output_type": "stream",
     "text": [
      "Imgs/\n",
      "Imgs/Fig/\n",
      "Imgs/Fig/0_100.jpg\n",
      "Imgs/Fig/r2_213_100.jpg\n",
      "Imgs/Fig/r2_305_100.jpg\n",
      "Imgs/Fig/r2_75_100.jpg\n",
      "Imgs/Fig/r_15_100.jpg\n",
      "Imgs/Kaki/\n",
      "Imgs/Kaki/12_100.jpg\n",
      "Imgs/Kaki/88_100.jpg\n",
      "Imgs/Kaki/r_0_100.jpg\n",
      "Imgs/Kaki/r_326_100.jpg\n",
      "Imgs/Kaki/r_96_100.jpg\n",
      "Imgs/Kiwi/\n",
      "Imgs/Kiwi/0_100.jpg\n",
      "Imgs/Kiwi/r_105_100.jpg\n",
      "Imgs/Kiwi/r_13_100.jpg\n",
      "Imgs/Kiwi/r_159_100.jpg\n",
      "Imgs/Kiwi/r_315_100.jpg\n",
      "Imgs/Mango/\n",
      "Imgs/Mango/13_100.jpg\n",
      "Imgs/Mango/95_100.jpg\n",
      "Imgs/Mango/r_153_100.jpg\n",
      "Imgs/Mango/r_327_100.jpg\n",
      "Imgs/Mango/r_38_100.jpg\n",
      "Imgs/Peach/\n",
      "Imgs/Peach/0_100.jpg\n",
      "Imgs/Peach/114_100.jpg\n",
      "Imgs/Peach/r_174_100.jpg\n",
      "Imgs/Peach/r_252_100.jpg\n",
      "Imgs/Peach/r_28_100.jpg\n"
     ]
    }
   ],
   "source": [
    "connexion = boto3.client('s3')\n",
    "contents = connexion.list_objects(Bucket=BUCKET_NAME, Prefix=PREFIX)['Contents']\n",
    "for file in contents:\n",
    "    print(file['Key']) "
   ]
  },
  {
   "cell_type": "markdown",
   "id": "de662554",
   "metadata": {},
   "source": [
    "# Init Spark"
   ]
  },
  {
   "cell_type": "code",
   "execution_count": 9,
   "id": "2e6bb2a8",
   "metadata": {},
   "outputs": [],
   "source": [
    "os.environ['PYSPARK_SUBMIT_ARGS'] = '--packages com.amazonaws:aws-java-sdk-pom:1.10.34,org.apache.hadoop:hadoop-aws:2.7.2 pyspark-shell'"
   ]
  },
  {
   "cell_type": "markdown",
   "id": "5407f7b0",
   "metadata": {},
   "source": [
    "- Retrieve aws [default] credentials stored in our local machine"
   ]
  },
  {
   "cell_type": "code",
   "execution_count": 10,
   "id": "852328d5",
   "metadata": {},
   "outputs": [],
   "source": [
    "aws_profile = \"default\"\n",
    "\n",
    "config = configparser.ConfigParser()\n",
    "config.read(os.path.expanduser(\"~/.aws/credentials\"))\n",
    "access_id = config.get(aws_profile, \"aws_access_key_id\") \n",
    "secret_key = config.get(aws_profile, \"aws_secret_access_key\")"
   ]
  },
  {
   "cell_type": "markdown",
   "id": "ebf08385",
   "metadata": {},
   "source": [
    "- Init SparkSession (The entry point to underlying PySpark functionality in order to programmatically create PySpark RDD, DataFrame)"
   ]
  },
  {
   "cell_type": "markdown",
   "id": "d49eca59",
   "metadata": {},
   "source": [
    "Notes on S3: <br>\n",
    "\n",
    "\n",
    "    S3 Native FileSystem (URI scheme: s3n) Native filesystem for reading and writing regular files on S3.\n",
    "    Can access files on S3 that were written with other tools. Conversely, other tools can access files written using Hadoop. The disadvantage is the 5GB limit on file size imposed by S3.\n",
    "\n",
    "    S3A (URI scheme: s3a) Successor to S3 Native, allow interaction with S3. Filesystem intended to be a replacement for/successor to S3 Native\n",
    "    - Support Larger Files (no more 5GB limit),\n",
    "    - higher performance operations and more. \n",
    "\n",
    "    S3 Block FileSystem (URI scheme: s3) A block-based filesystem backed by S3. Files are stored as blocks, like HDFS. \n",
    "    This permits efficient implementation of renames. \n",
    "    This filesystem requires you to dedicate a bucket for the filesystem - you should not use an existing bucket containing files, or write other files to the same bucket. \n",
    "    The files stored by this filesystem can be larger than 5GB, but they are not interoperable with other S3 tools.\n"
   ]
  },
  {
   "cell_type": "code",
   "execution_count": 11,
   "id": "dbb49672",
   "metadata": {},
   "outputs": [],
   "source": [
    "spark = (SparkSession\n",
    "         .builder.master('local[*]') # Run in local with as many workers as logical cores\n",
    "         .appName('P8')\n",
    "         .config('spark.hadoop.fs.s3a.access.key', access_id) \n",
    "         .config('spark.hadoop.fs.s3a.secret.key', secret_key) \n",
    "         .config('spark.hadoop.fs.s3a.impl', 'org.apache.hadoop.fs.s3a.S3AFileSystem') \n",
    "         .getOrCreate() # returns a SparkSession object if already exists, creates new one if not.\n",
    "        )"
   ]
  },
  {
   "cell_type": "markdown",
   "id": "5d4a06af",
   "metadata": {},
   "source": [
    "- Init SparkContext (Object that tells how to access a cluster)"
   ]
  },
  {
   "cell_type": "code",
   "execution_count": 12,
   "id": "3145d3c8",
   "metadata": {},
   "outputs": [],
   "source": [
    "sc = spark.sparkContext\n",
    "sc.setSystemProperty('com.amazonaws.services.s3.enableV4', 'true')\n",
    "sc._jsc.hadoopConfiguration().set(\"fs.s3a.endpoint\", \"s3.us-east-1.amazonaws.com\")"
   ]
  },
  {
   "cell_type": "markdown",
   "id": "aabd3d9f",
   "metadata": {},
   "source": [
    "- Retrieve our img dataframe"
   ]
  },
  {
   "cell_type": "code",
   "execution_count": 13,
   "id": "704e1266",
   "metadata": {
    "scrolled": true
   },
   "outputs": [],
   "source": [
    "s3_url = f\"s3a://{BUCKET_NAME}/{PREFIX}/*\"\n",
    "df = spark.read.format(\"binaryfile\").load(s3_url)"
   ]
  },
  {
   "cell_type": "code",
   "execution_count": 14,
   "id": "16247199",
   "metadata": {},
   "outputs": [
    {
     "name": "stdout",
     "output_type": "stream",
     "text": [
      "+--------------------+-------------------+------+--------------------+\n",
      "|                path|   modificationTime|length|             content|\n",
      "+--------------------+-------------------+------+--------------------+\n",
      "|s3a://fruitbucket...|2021-12-17 13:07:20|  5336|[FF D8 FF E0 00 1...|\n",
      "|s3a://fruitbucket...|2021-12-17 13:07:18|  5251|[FF D8 FF E0 00 1...|\n",
      "|s3a://fruitbucket...|2021-12-17 13:07:19|  5190|[FF D8 FF E0 00 1...|\n",
      "|s3a://fruitbucket...|2021-12-17 13:07:18|  5126|[FF D8 FF E0 00 1...|\n",
      "|s3a://fruitbucket...|2021-12-17 13:07:18|  5124|[FF D8 FF E0 00 1...|\n",
      "+--------------------+-------------------+------+--------------------+\n",
      "only showing top 5 rows\n",
      "\n"
     ]
    }
   ],
   "source": [
    "df.show(5)"
   ]
  },
  {
   "cell_type": "code",
   "execution_count": 15,
   "id": "296e6921",
   "metadata": {},
   "outputs": [
    {
     "name": "stdout",
     "output_type": "stream",
     "text": [
      "root\n",
      " |-- path: string (nullable = true)\n",
      " |-- modificationTime: timestamp (nullable = true)\n",
      " |-- length: long (nullable = true)\n",
      " |-- content: binary (nullable = true)\n",
      "\n"
     ]
    }
   ],
   "source": [
    "df.printSchema()"
   ]
  },
  {
   "cell_type": "markdown",
   "id": "d17b05e5",
   "metadata": {},
   "source": [
    "- We need to create a label column and delete length and modificationTime"
   ]
  },
  {
   "cell_type": "code",
   "execution_count": 16,
   "id": "3b4be012",
   "metadata": {},
   "outputs": [],
   "source": [
    "from pyspark.sql.functions import split"
   ]
  },
  {
   "cell_type": "code",
   "execution_count": 17,
   "id": "54ba7667",
   "metadata": {
    "scrolled": true
   },
   "outputs": [
    {
     "name": "stdout",
     "output_type": "stream",
     "text": [
      "+--------------------+--------------------+-----+\n",
      "|                path|             content|label|\n",
      "+--------------------+--------------------+-----+\n",
      "|s3a://fruitbucket...|[FF D8 FF E0 00 1...| Kaki|\n",
      "|s3a://fruitbucket...|[FF D8 FF E0 00 1...|Peach|\n",
      "|s3a://fruitbucket...|[FF D8 FF E0 00 1...| Kiwi|\n",
      "|s3a://fruitbucket...|[FF D8 FF E0 00 1...|Peach|\n",
      "|s3a://fruitbucket...|[FF D8 FF E0 00 1...|Peach|\n",
      "+--------------------+--------------------+-----+\n",
      "only showing top 5 rows\n",
      "\n"
     ]
    }
   ],
   "source": [
    "df = df.withColumn('label', split(df.path, '/').getItem(4))\n",
    "df = df.select('path', 'content', 'label')\n",
    "df.show(5)"
   ]
  },
  {
   "cell_type": "markdown",
   "id": "13039486",
   "metadata": {},
   "source": [
    "# Feature extraction"
   ]
  },
  {
   "cell_type": "markdown",
   "id": "aea29019",
   "metadata": {},
   "source": [
    "Spark workers need to access the model and its weights.\n",
    "\n",
    "   - For moderately sized models (< 1GB in size), a good practice is to download the model to the Spark driver and then broadcast the weights to the workers. This notebook uses this approach.\n",
    "   - For large models (> 1GB), it is best to load the model weights from distributed storage to workers directly.\n"
   ]
  },
  {
   "cell_type": "markdown",
   "id": "eac1955d",
   "metadata": {},
   "source": [
    "Used this code: https://docs.databricks.com/_static/notebooks/deep-learning/deep-learning-transfer-learning-keras.html"
   ]
  },
  {
   "cell_type": "code",
   "execution_count": 18,
   "id": "aae900af",
   "metadata": {},
   "outputs": [],
   "source": [
    "bc_model_weights = sc.broadcast(model.get_weights())\n",
    "\n",
    "def model_fn():\n",
    "    \"\"\"\n",
    "    Returns a ResNet50 model with top layer removed and broadcasted pretrained weights.\n",
    "    \"\"\"\n",
    "    model = ResNet50(weights=None, include_top=False)\n",
    "    model.set_weights(bc_model_weights.value)\n",
    "    return model"
   ]
  },
  {
   "cell_type": "code",
   "execution_count": 19,
   "id": "71c72bf0",
   "metadata": {},
   "outputs": [],
   "source": [
    "def preprocess(content):\n",
    "    \"\"\"\n",
    "    Preprocesses raw image bytes for prediction.\n",
    "    \"\"\"\n",
    "    img = Image.open(io.BytesIO(content)).resize([224, 224])\n",
    "    arr = img_to_array(img)\n",
    "    return preprocess_input(arr)\n",
    "\n",
    "def featurize_series(model, content_series):\n",
    "    \"\"\"\n",
    "    Featurize a pd.Series of raw images using the input model.\n",
    "    :return: a pd.Series of image features\n",
    "    \"\"\"\n",
    "    input = np.stack(content_series.map(preprocess))\n",
    "    preds = model.predict(input)\n",
    "    # For some layers, output features will be multi-dimensional tensors.\n",
    "    # We flatten the feature tensors to vectors for easier storage in Spark DataFrames.\n",
    "    output = [p.flatten() for p in preds]\n",
    "    return pd.Series(output)"
   ]
  },
  {
   "cell_type": "code",
   "execution_count": 20,
   "id": "db3c3360",
   "metadata": {
    "scrolled": true
   },
   "outputs": [
    {
     "name": "stderr",
     "output_type": "stream",
     "text": [
      "/home/ubuntu/spark-3.0.3-bin-hadoop2.7/python/pyspark/sql/pandas/functions.py:383: UserWarning: In Python 3.6+ and Spark 3.0+, it is preferred to specify type hints for pandas UDF instead of specifying pandas UDF type which will be deprecated in the future releases. See SPARK-28264 for more details.\n",
      "  warnings.warn(\n"
     ]
    }
   ],
   "source": [
    "@pandas_udf('array<float>', PandasUDFType.SCALAR_ITER)\n",
    "def featurize_udf(content_series_iter):\n",
    "    '''\n",
    "    This method is a Scalar Iterator pandas UDF wrapping our featurization function.\n",
    "    The decorator specifies that this returns a Spark DataFrame column of type ArrayType(FloatType).\n",
    "\n",
    "    :param content_series_iter: This argument is an iterator over batches of data, where each batch\n",
    "                              is a pandas Series of image data.\n",
    "    '''\n",
    "    # With Scalar Iterator pandas UDFs, we can load the model once and then re-use it\n",
    "    # for multiple data batches.  This amortizes the overhead of loading big models.\n",
    "    model = model_fn()\n",
    "    for content_series in content_series_iter:\n",
    "        yield featurize_series(model, content_series)"
   ]
  },
  {
   "cell_type": "code",
   "execution_count": 21,
   "id": "34be96f8",
   "metadata": {},
   "outputs": [
    {
     "name": "stdout",
     "output_type": "stream",
     "text": [
      "root\n",
      " |-- path: string (nullable = true)\n",
      " |-- label: string (nullable = true)\n",
      " |-- features: array (nullable = true)\n",
      " |    |-- element: float (containsNull = true)\n",
      "\n"
     ]
    }
   ],
   "source": [
    "features_df = df.select(col(\"path\"), col(\"label\"), featurize_udf(\"content\").alias(\"features\"))\n",
    "features_df.printSchema()"
   ]
  },
  {
   "cell_type": "code",
   "execution_count": 22,
   "id": "49f1e0bd",
   "metadata": {},
   "outputs": [
    {
     "name": "stdout",
     "output_type": "stream",
     "text": [
      "+--------------------+-----+--------------------+\n",
      "|                path|label|            features|\n",
      "+--------------------+-----+--------------------+\n",
      "|s3a://fruitbucket...| Kaki|[0.0, 0.0, 0.0, 0...|\n",
      "|s3a://fruitbucket...|Peach|[0.0, 0.0, 0.0, 0...|\n",
      "|s3a://fruitbucket...| Kiwi|[0.0, 0.0, 0.0, 0...|\n",
      "|s3a://fruitbucket...|Peach|[0.0, 0.0, 0.0, 0...|\n",
      "|s3a://fruitbucket...|Peach|[0.0, 0.0, 0.0, 0...|\n",
      "+--------------------+-----+--------------------+\n",
      "only showing top 5 rows\n",
      "\n"
     ]
    }
   ],
   "source": [
    "features_df.show(5)"
   ]
  },
  {
   "cell_type": "markdown",
   "id": "bc51ab60",
   "metadata": {},
   "source": [
    "# PCA"
   ]
  },
  {
   "cell_type": "markdown",
   "id": "2ea9a787",
   "metadata": {},
   "source": [
    "## Preprocessing"
   ]
  },
  {
   "cell_type": "code",
   "execution_count": 23,
   "id": "a86ae7dd",
   "metadata": {},
   "outputs": [],
   "source": [
    "from pyspark.ml.linalg import Vectors, VectorUDT\n",
    "from pyspark.sql.functions import udf\n",
    "from pyspark.ml.feature import StringIndexer, StandardScaler\n",
    "from pyspark.ml.feature import PCA"
   ]
  },
  {
   "cell_type": "markdown",
   "id": "e214596d",
   "metadata": {},
   "source": [
    "- We scale the input to the PCA"
   ]
  },
  {
   "cell_type": "code",
   "execution_count": 24,
   "id": "0fbaa12b",
   "metadata": {},
   "outputs": [],
   "source": [
    "list_to_vector_udf = udf(lambda l: Vectors.dense(l), VectorUDT())\n",
    "features_df = features_df.select(col(\"path\"),  col(\"label\"), list_to_vector_udf(features_df[\"features\"]).alias(\"features\"))"
   ]
  },
  {
   "cell_type": "code",
   "execution_count": 25,
   "id": "ff45c9c9",
   "metadata": {},
   "outputs": [],
   "source": [
    "standardizer = StandardScaler(withMean=True, withStd=True,\n",
    "                              inputCol='features',\n",
    "                              outputCol='features_scaled')\n",
    "std = standardizer.fit(features_df)\n",
    "features_df_scaled = std.transform(features_df)"
   ]
  },
  {
   "cell_type": "code",
   "execution_count": 26,
   "id": "d1dae998",
   "metadata": {},
   "outputs": [
    {
     "name": "stdout",
     "output_type": "stream",
     "text": [
      "+--------------------+-----+--------------------+--------------------+\n",
      "|                path|label|            features|     features_scaled|\n",
      "+--------------------+-----+--------------------+--------------------+\n",
      "|s3a://fruitbucket...| Kaki|[0.0,0.0,0.0,0.0,...|[0.0,0.0,0.0,0.0,...|\n",
      "|s3a://fruitbucket...|Peach|[0.0,0.0,0.0,0.0,...|[0.0,0.0,0.0,0.0,...|\n",
      "|s3a://fruitbucket...| Kiwi|[0.0,0.0,0.0,0.0,...|[0.0,0.0,0.0,0.0,...|\n",
      "|s3a://fruitbucket...|Peach|[0.0,0.0,0.0,0.0,...|[0.0,0.0,0.0,0.0,...|\n",
      "|s3a://fruitbucket...|Peach|[0.0,0.0,0.0,0.0,...|[0.0,0.0,0.0,0.0,...|\n",
      "+--------------------+-----+--------------------+--------------------+\n",
      "only showing top 5 rows\n",
      "\n"
     ]
    }
   ],
   "source": [
    "features_df_scaled.show(5) "
   ]
  },
  {
   "cell_type": "markdown",
   "id": "6d0bd4ab",
   "metadata": {},
   "source": [
    "## Transformation"
   ]
  },
  {
   "cell_type": "code",
   "execution_count": 27,
   "id": "b1c7e526",
   "metadata": {},
   "outputs": [],
   "source": [
    "pca = PCA(k=10, inputCol=\"features_scaled\", outputCol=\"pca\")\n",
    "model_pca = pca.fit(features_df_scaled)\n",
    "transformed = model_pca.transform(features_df_scaled)"
   ]
  },
  {
   "cell_type": "code",
   "execution_count": 28,
   "id": "08b9455f",
   "metadata": {
    "scrolled": true
   },
   "outputs": [
    {
     "data": {
      "image/png": "[encoded data removed]",
      "text/plain": [
       "<Figure size 432x288 with 1 Axes>"
      ]
     },
     "metadata": {
      "needs_background": "light"
     },
     "output_type": "display_data"
    }
   ],
   "source": [
    "to_disp = model_pca.explainedVariance.cumsum()\n",
    "sns.lineplot(x=[i for i in range(11)], y=np.insert(to_disp,0,0)*100)\n",
    "plt.xlabel('PCs')\n",
    "plt.ylabel('Variance (%)')\n",
    "plt.ylim(0,100)\n",
    "plt.xlim(left=0)\n",
    "plt.show()"
   ]
  },
  {
   "cell_type": "markdown",
   "id": "75819d4a",
   "metadata": {},
   "source": [
    "# Export"
   ]
  },
  {
   "cell_type": "code",
   "execution_count": 29,
   "id": "b23feecc",
   "metadata": {},
   "outputs": [],
   "source": [
    "transformed_final = transformed.select('path', 'label', 'pca')\n",
    "transformed_pandas = transformed_final.toPandas()"
   ]
  },
  {
   "cell_type": "code",
   "execution_count": 35,
   "id": "cd71ad16",
   "metadata": {
    "scrolled": true
   },
   "outputs": [],
   "source": [
    "path_to_save = f's3://{BUCKET_NAME}/{PREFIX}/PCA_out.parquet.gzip'\n",
    "transformed_pandas.astype({'pca': str}).to_parquet(path_to_save, compression='gzip', index=False)"
   ]
  },
  {
   "cell_type": "markdown",
   "id": "5629cb34",
   "metadata": {},
   "source": [
    "---"
   ]
  },
  {
   "cell_type": "code",
   "execution_count": 39,
   "id": "c6ec2a23",
   "metadata": {
    "scrolled": true
   },
   "outputs": [
    {
     "data": {
      "image/png": "[encoded data removed]",
      "text/plain": [
       "<Figure size 432x288 with 1 Axes>"
      ]
     },
     "metadata": {
      "needs_background": "light"
     },
     "output_type": "display_data"
    }
   ],
   "source": [
    "img = mpimg.imread(file_name)\n",
    "plt.imshow(img)\n",
    "plt.show()"
   ]
  }
 ],
 "metadata": {
  "kernelspec": {
   "display_name": "base",
   "language": "python",
   "name": "base"
  },
  "language_info": {
   "codemirror_mode": {
    "name": "ipython",
    "version": 3
   },
   "file_extension": ".py",
   "mimetype": "text/x-python",
   "name": "python",
   "nbconvert_exporter": "python",
   "pygments_lexer": "ipython3",
   "version": "3.8.8"
  }
 },
 "nbformat": 4,
 "nbformat_minor": 5
}
